{
  "nbformat": 4,
  "nbformat_minor": 0,
  "metadata": {
    "colab": {
      "provenance": [],
      "authorship_tag": "ABX9TyM5NyM+z4M00MD4TP8mNGPc",
      "include_colab_link": true
    },
    "kernelspec": {
      "name": "python3",
      "display_name": "Python 3"
    },
    "language_info": {
      "name": "python"
    }
  },
  "cells": [
    {
      "cell_type": "markdown",
      "metadata": {
        "id": "view-in-github",
        "colab_type": "text"
      },
      "source": [
        "<a href=\"https://colab.research.google.com/github/VitorGomesder4/numphy-studies/blob/main/som_mul_de_matrizes_EDNARDO.ipynb\" target=\"_parent\"><img src=\"https://colab.research.google.com/assets/colab-badge.svg\" alt=\"Open In Colab\"/></a>"
      ]
    },
    {
      "cell_type": "markdown",
      "source": [
        "Faça um programa que some e multiplique Matrizes:\n",
        "***"
      ],
      "metadata": {
        "id": "dWuWE6q0a1w1"
      }
    },
    {
      "cell_type": "markdown",
      "source": [
        "**Professor se quiser saber como o codigo funciona em cada linha deixei um comentario explicando**\n",
        "***"
      ],
      "metadata": {
        "id": "Ljphu6hJloRW"
      }
    },
    {
      "cell_type": "code",
      "source": [
        "import numpy as np #importa a biblioteca numpy que é usada para manipulação, criação, operação de arrays/matrizes\n",
        "\n",
        "matriz_A = np.array([\n",
        "    [1, 3, -2, 4, 7, 2],\n",
        "    [5, 5, 1, -1, 1, -1],\n",
        "    [9, 15, 11, 12, 7, 2],\n",
        "    [3, -3, -2, -8, 7, 4],\n",
        "    [5, -2, 7, 8, -3, -2],\n",
        "    [22, 53, -10, 4, -1, -3]]) #Separo uma variavel matriz_A usando a função np.array para criar uma matriz de 6 linhas/index\n",
        "\n",
        "print(\"A = \\n{}\\n\".format(matriz_A)) #Print da matriz A\n",
        "\n",
        "matriz_B = np.array([\n",
        "    [1, 5, 3, 2, 1, 9],\n",
        "    [5, 6, -7, 5, 0, 0],\n",
        "    [1, -1, 1, 1, 2, 4],\n",
        "    [5, 10, -15, 25, 21, 23],\n",
        "    [17, 0, -27, -3, 74, 9],\n",
        "    [2, 21, -20, 42, 0, 0]]) #Separo uma variavel matriz_B usando a função np.array para criar uma matriz de 6 linhas/index\n",
        "\n",
        "print(\"B = \\n{}\\n\".format(matriz_B)) #Print da matriz A\n",
        "\n",
        "soma_de_AB = matriz_A + matriz_B #Variavel que guarda a soma das duas matrizes\n",
        "\n",
        "print(\"A + B = \\n{}\\n\".format(soma_de_AB)) #Print do resultado da soma\n",
        "\n",
        "multi_de_AB = np.matmul(matriz_A, matriz_B) #Variavel que guarda a multiplicação das duas matrizes\n",
        "\n",
        "print(\"A * B = \\n{}\".format(multi_de_AB)) #Print do resultado da multiplicação"
      ],
      "metadata": {
        "colab": {
          "base_uri": "https://localhost:8080/"
        },
        "id": "0-r165A-gZ0y",
        "outputId": "51f2863e-c82c-465a-b1bf-df4477bcc306"
      },
      "execution_count": null,
      "outputs": [
        {
          "output_type": "stream",
          "name": "stdout",
          "text": [
            "A = \n",
            "[[  1   3  -2   4   7   2]\n",
            " [  5   5   1  -1   1  -1]\n",
            " [  9  15  11  12   7   2]\n",
            " [  3  -3  -2  -8   7   4]\n",
            " [  5  -2   7   8  -3  -2]\n",
            " [ 22  53 -10   4  -1  -3]]\n",
            "\n",
            "B = \n",
            "[[  1   5   3   2   1   9]\n",
            " [  5   6  -7   5   0   0]\n",
            " [  1  -1   1   1   2   4]\n",
            " [  5  10 -15  25  21  23]\n",
            " [ 17   0 -27  -3  74   9]\n",
            " [  2  21 -20  42   0   0]]\n",
            "\n",
            "A + B = \n",
            "[[  2   8   1   6   8  11]\n",
            " [ 10  11  -6   4   1  -1]\n",
            " [ 10  14  12  13   9   6]\n",
            " [  8   7 -17  17  28  27]\n",
            " [ 22  -2 -20   5  71   7]\n",
            " [ 24  74 -30  46  -1  -3]]\n",
            "\n",
            "A * B = \n",
            "[[ 157  107 -309  178  599  156]\n",
            " [  41   23  -11  -34   60   35]\n",
            " [ 278  286 -476  467  801  464]\n",
            " [  73    3 -121  -64  349 -102]\n",
            " [ -13   44   37  132  -35  230]\n",
            " [ 274  415 -288  276   12  241]]\n"
          ]
        }
      ]
    }
  ]
}